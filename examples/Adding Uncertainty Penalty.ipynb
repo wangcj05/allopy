{
 "cells": [
  {
   "cell_type": "markdown",
   "metadata": {},
   "source": [
    "# Adding Uncertainty Penalty\n",
    "\n",
    "This tutorial will guide you on how to add the uncertainty penalty to the `PortfolioOptimizer` classes. As of writing the two optimizer class that supports penalty functions are `PortfolioOptimizer` and `ActivePortfolioOptimizer`. \n",
    "\n",
    "To start off, let's load in all the required packages."
   ]
  },
  {
   "cell_type": "code",
   "execution_count": 1,
   "metadata": {},
   "outputs": [],
   "source": [
    "from muarch.funcs import get_annualized_sd\n",
    "\n",
    "from allopy import OptData, PortfolioOptimizer\n",
    "from allopy.datasets import load_monte_carlo\n",
    "from allopy.penalty import UncertaintyPenalty\n",
    "\n",
    "import numpy as np\n",
    "\n",
    "\n",
    "np.set_printoptions(linewidth=200)"
   ]
  },
  {
   "cell_type": "markdown",
   "metadata": {},
   "source": [
    "Let's load in a sample dataset."
   ]
  },
  {
   "cell_type": "code",
   "execution_count": 2,
   "metadata": {},
   "outputs": [
    {
     "data": {
      "text/plain": [
       "(80, 10000, 9)"
      ]
     },
     "execution_count": 2,
     "metadata": {},
     "output_type": "execute_result"
    }
   ],
   "source": [
    "data = OptData(load_monte_carlo(), 'q')\n",
    "data.shape"
   ]
  },
  {
   "cell_type": "markdown",
   "metadata": {},
   "source": [
    "We'll only use the first 7 asset classes. For them we will also set the lower and upper bounds respectively.\n"
   ]
  },
  {
   "cell_type": "code",
   "execution_count": 3,
   "metadata": {},
   "outputs": [
    {
     "data": {
      "text/plain": [
       "<allopy.optimize.portfolio.portfolio.optimizer.PortfolioOptimizer at 0x223fdc55e88>"
      ]
     },
     "execution_count": 3,
     "metadata": {},
     "output_type": "execute_result"
    }
   ],
   "source": [
    "opt = PortfolioOptimizer(data.take_assets(7))\n",
    "opt.set_bounds(\n",
    "    0,  # lower bounds all set  to 0\n",
    "    [0.4, 0.3, 0.13, 0.11, 0.25, 0.04, 0.05]  # custom upper bounds\n",
    ")"
   ]
  },
  {
   "cell_type": "markdown",
   "metadata": {},
   "source": [
    "For simplicity, we will use the current volatility as the uncertainty vector. But remember, you can set a uncertainty matrix for the penalty class."
   ]
  },
  {
   "cell_type": "code",
   "execution_count": 4,
   "metadata": {},
   "outputs": [
    {
     "data": {
      "text/plain": [
       "array([0.1849, 0.2648, 0.2026, 0.0961, 0.078 , 0.1403, 0.0428, 0.0613, 0.185 ])"
      ]
     },
     "execution_count": 4,
     "metadata": {},
     "output_type": "execute_result"
    }
   ],
   "source": [
    "vol = get_annualized_sd(data, 'quarter')\n",
    "vol.round(4)"
   ]
  },
  {
   "cell_type": "code",
   "execution_count": 5,
   "metadata": {},
   "outputs": [
    {
     "name": "stdout",
     "output_type": "stream",
     "text": [
      "UncertaintyPenalty(\n",
      "    lambda=1.0,\n",
      "    uncertainty=[[0.1849, 0.    , 0.    , 0.    , 0.    , 0.    , 0.    , 0.    , 0.    ],\n",
      "       [0.    , 0.2648, 0.    , 0.    , 0.    , 0.    , 0.    , 0.    , 0.    ],\n",
      "       [0.    , 0.    , 0.2026, 0.    , 0.    , 0.    , 0.    , 0.    , 0.    ],\n",
      "       [0.    , 0.    , 0.    , 0.0961, 0.    , 0.    , 0.    , 0.    , 0.    ],\n",
      "       [0.    , 0.    , 0.    , 0.    , 0.078 , 0.    , 0.    , 0.    , 0.    ],\n",
      "       [0.    , 0.    , 0.    , 0.    , 0.    , 0.1403, 0.    , 0.    , 0.    ],\n",
      "       [0.    , 0.    , 0.    , 0.    , 0.    , 0.    , 0.0428, 0.    , 0.    ],\n",
      "       [0.    , 0.    , 0.    , 0.    , 0.    , 0.    , 0.    , 0.0613, 0.    ],\n",
      "       [0.    , 0.    , 0.    , 0.    , 0.    , 0.    , 0.    , 0.    , 0.185 ]]\n",
      ")\n"
     ]
    }
   ],
   "source": [
    "penalty = UncertaintyPenalty(vol, lambda_=1.0)\n",
    "print(penalty)"
   ]
  },
  {
   "cell_type": "markdown",
   "metadata": {},
   "source": [
    "Note that we have transformed the vector to a diagonal matrix. Now, let's add the penalty to the optimizer."
   ]
  },
  {
   "cell_type": "code",
   "execution_count": 6,
   "metadata": {},
   "outputs": [
    {
     "name": "stdout",
     "output_type": "stream",
     "text": [
      "An error has occurred: dimension of the penalty does not match the data\n"
     ]
    }
   ],
   "source": [
    "try:\n",
    "    opt.penalty = penalty\n",
    "except AssertionError as e:\n",
    "    print(\"An error has occurred:\", '. '.join(e.args))"
   ]
  },
  {
   "cell_type": "markdown",
   "metadata": {},
   "source": [
    "Oops, why is there an error? It's because the penalty vector has a dimension of 9, which means that there should be 9 asset classes. However, at the top, we have chosen to use only the first 7 asset classes. To fix that, we must initialize the `UncertaintyPenalty` correctly. Let's do it again."
   ]
  },
  {
   "cell_type": "code",
   "execution_count": 7,
   "metadata": {},
   "outputs": [
    {
     "name": "stdout",
     "output_type": "stream",
     "text": [
      "UncertaintyPenalty(\n",
      "    lambda=1.0,\n",
      "    uncertainty=[[0.1849, 0.    , 0.    , 0.    , 0.    , 0.    , 0.    ],\n",
      "       [0.    , 0.2648, 0.    , 0.    , 0.    , 0.    , 0.    ],\n",
      "       [0.    , 0.    , 0.2026, 0.    , 0.    , 0.    , 0.    ],\n",
      "       [0.    , 0.    , 0.    , 0.0961, 0.    , 0.    , 0.    ],\n",
      "       [0.    , 0.    , 0.    , 0.    , 0.078 , 0.    , 0.    ],\n",
      "       [0.    , 0.    , 0.    , 0.    , 0.    , 0.1403, 0.    ],\n",
      "       [0.    , 0.    , 0.    , 0.    , 0.    , 0.    , 0.0428]]\n",
      ")\n"
     ]
    }
   ],
   "source": [
    "penalty = UncertaintyPenalty(vol[:7], lambda_=1.0)\n",
    "print(penalty)"
   ]
  },
  {
   "cell_type": "code",
   "execution_count": 8,
   "metadata": {},
   "outputs": [
    {
     "data": {
      "text/plain": [
       "array([0.2678, 0.1522, 0.13  , 0.11  , 0.25  , 0.04  , 0.05  ])"
      ]
     },
     "execution_count": 8,
     "metadata": {},
     "output_type": "execute_result"
    }
   ],
   "source": [
    "opt.penalty = penalty\n",
    "optimal_weights = opt.maximize_sharpe_ratio()\n",
    "optimal_weights.round(4)"
   ]
  },
  {
   "cell_type": "markdown",
   "metadata": {},
   "source": [
    "That's it, we're done. To remove any penalty you have set by accident, set it to `None`."
   ]
  },
  {
   "cell_type": "code",
   "execution_count": 9,
   "metadata": {},
   "outputs": [],
   "source": [
    "opt.penalty = None"
   ]
  }
 ],
 "metadata": {
  "kernelspec": {
   "display_name": "Python 3",
   "language": "python",
   "name": "python3"
  },
  "language_info": {
   "codemirror_mode": {
    "name": "ipython",
    "version": 3
   },
   "file_extension": ".py",
   "mimetype": "text/x-python",
   "name": "python",
   "nbconvert_exporter": "python",
   "pygments_lexer": "ipython3",
   "version": "3.7.5"
  },
  "pycharm": {
   "stem_cell": {
    "cell_type": "raw",
    "source": [],
    "metadata": {
     "collapsed": false
    }
   }
  }
 },
 "nbformat": 4,
 "nbformat_minor": 2
}