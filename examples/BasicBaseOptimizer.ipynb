{
 "cells": [
  {
   "cell_type": "markdown",
   "metadata": {},
   "source": [
    "Basic Introduction to BaseOptimizer\n",
    "==============================\n",
    "\n",
    "In this tutorial, we show how to use the `BaseOptimizer` to optimize a hypothetical portfolio.\n",
    "\n",
    "In this portfolio, we have 2 assets with different expected returns and volatility. Our task is to find the optimal weights subject to some risk constraints. Let's assume Asset $A$ has an annual return of 12% with volatility at 4%, Asset $B$ has an historical annual returns of 4% with volatility at 0.14% and both of them has a covariance of 0.2%. We start off by simulating **500** instances of their one-year ahead returns."
   ]
  },
  {
   "cell_type": "code",
   "execution_count": 1,
   "metadata": {},
   "outputs": [],
   "source": [
    "import numpy as np\n",
    "from scipy.stats import multivariate_normal as mvn\n",
    "\n",
    "assets_mean = [0.12, 0.04]  # asset mean returns vector\n",
    "assets_std = [\n",
    "    [0.04, 0.002], \n",
    "    [0.002, 0.0014]\n",
    "]  # asset covariance matrix\n",
    "\n",
    "# hypothetical returns series\n",
    "returns = mvn.rvs(mean=assets_mean, cov=assets_std, size=500, random_state=88)"
   ]
  },
  {
   "cell_type": "markdown",
   "metadata": {},
   "source": [
    "Now that we have the returns series, our job is to optimize the portfolio where our objective is to maximize the expected returns subject to certain risk budgets. Let's assume we are only comfortable with taking a volatility of at most 10%.\n",
    "\n",
    "Our problem is thus given by\n",
    "\n",
    "$$\n",
    "\\begin{gather*}\n",
    "    \\underset{\\mathbf{w}}{\\max} \\frac{1}{N}\\sum_i^2 w_i \\cdot r_{i} \\\\\n",
    "    s.t. \\\\\n",
    "    \\sqrt{\\frac{\\sum_n^N \\left(w_i \\cdot r_{i, n} - \\frac{1}{N}\\sum_n^N\\sum_i^2 w_i \\cdot r_{i, n} \\right)^2}{N-1}} \\leq 0.1\n",
    "\\end{gather*}\n",
    "$$"
   ]
  },
  {
   "cell_type": "markdown",
   "metadata": {},
   "source": [
    "Looks complicated but let's simplify it with some vector notations. Allowing $r_n$ to be the returns at trial $n$ after accounting for the weights ($w$), $\\mu$ to be the mean return across trials, the problem can be specified as\n",
    "\n",
    "$$\n",
    "\\begin{gather*}\n",
    "    \\underset{\\mathbf{w}}{\\max} \\frac{\\mathbf{w} \\cdot \\mathbf{r}}{N} \\\\\n",
    "    s.t. \\\\\n",
    "    \\sqrt{\\frac{\\sum_n^N \\left(r_n - \\mu \\right)^2}{N-1}} \\leq 0.1\n",
    "\\end{gather*}\n",
    "$$"
   ]
  },
  {
   "cell_type": "code",
   "execution_count": 2,
   "metadata": {},
   "outputs": [
    {
     "name": "stdout",
     "output_type": "stream",
     "text": [
      "Solution:  [0.47209575 0.52790425]\n"
     ]
    }
   ],
   "source": [
    "from allopy.optimize import BaseOptimizer\n",
    "\n",
    "\n",
    "def objective(w):\n",
    "    return (returns @ w).mean()\n",
    "\n",
    "\n",
    "def constraint(w):\n",
    "    # we need to convert the constraint to standard form. So c(w) - K <= 0\n",
    "    return (returns @ w).std() - 0.1\n",
    "\n",
    "\n",
    "prob = BaseOptimizer(2)  # initialize the optimizer with 2 asset classes\n",
    "\n",
    "# set the objective function\n",
    "prob.set_max_objective(objective) \n",
    "\n",
    "# set the inequality constraint function\n",
    "prob.add_inequality_constraint(constraint)\n",
    "\n",
    "# set lower and upper bounds to 0 and 1 for all free variables (weights)\n",
    "prob.set_bounds(0, 1)\n",
    "\n",
    "# set equality matrix constraint, Ax = b. Weights sum to 1\n",
    "prob.add_equality_matrix_constraint([[1, 1]], [1])\n",
    "\n",
    "sol = prob.optimize()\n",
    "print('Solution: ', sol)"
   ]
  },
  {
   "cell_type": "markdown",
   "metadata": {},
   "source": [
    "Don't be alarmed if you noticed the print outs, `Setting gradient for ...`. By default, you actually have to set the gradient and possibly the hessian for your function. In fact, you could if you wanted to. This will give you more control over the optimization program. However, understanding that it may be tedious, we have opted to set the gradient for you if you didn't do so.\n",
    "\n",
    "This assumes you're using a gradient based optimizer. In case you did, the default gradient is set using a second-order numerical derivative.\n",
    "\n",
    "Also notice the solution given above. This means that the optimizer has successfully found the solution. To get even more information, we can use the `.summary()` method as seen below."
   ]
  },
  {
   "cell_type": "code",
   "execution_count": 3,
   "metadata": {},
   "outputs": [
    {
     "data": {
      "text/html": [
       "\n",
       "<h1>GIC Portfolio Optimizer</h1>\n",
       "<h3>Algorithm: Sequential Quadratic Programming (SQP) (local, derivative)</h3>\n",
       "<hr/>\n",
       "<table>\n",
       "    <tr>\n",
       "        <th>Problem Setup</th>\n",
       "        <th>Value</th>\n",
       "        <th>Optimizer Setup</th>\n",
       "        <th>Value</th>\n",
       "    </tr>\n",
       "    <tr><td>objective</td><td>maximize</td><td>xtol_abs</td><td>1e-06</td></tr><tr><td>n_var</td><td>2</td><td>xtol_rel</td><td>0.0</td></tr><tr><td>n_eq_con</td><td>1</td><td>ftol_abs</td><td>1e-06</td></tr><tr><td>n_ineq_con</td><td>1</td><td>ftol_rel</td><td>0.0</td></tr><tr><td></td><td></td><td>max_eval</td><td>100000</td></tr><tr><td></td><td></td><td>stop_val</td><td>inf</td></tr>\n",
       "</table>\n",
       "<hr/>\n",
       "<table>\n",
       "    <tr>\n",
       "        <th>Lower Bound</th>\n",
       "        <th>Upper Bound</th>\n",
       "    </tr>\n",
       "    <tr><td>0.0</td><td>6</td></tr> <tr><td>0.0</td><td>6</td></tr>\n",
       "</table>\n",
       "<hr/>\n",
       "<h3>Results</h3>\n",
       "\n",
       "<div>\n",
       "    <b>Program found a solution</b>\n",
       "    <p>\n",
       "        Solution: [0.472096, 0.527904]\n",
       "    </p>\n",
       "    The following inequality constraints were tight: <br/><ul><li>  1: constraint</li></ul>\n",
       "</div> \n",
       "\n",
       "        "
      ],
      "text/plain": [
       "                              GIC Portfolio Optimizer                               \n",
       "\n",
       "====================================================================================\n",
       "\n",
       "\n",
       "\n",
       "Algorithm: Sequential Quadratic Programming (SQP) (local, derivative)\n",
       "\n",
       "------------------------------------------------------------------------------------\n",
       "\n",
       "Optimizer Setup                           Options                                   \n",
       "objective                       maximize    xtol_abs                           1e-06\n",
       "n_var                                  2    xtol_rel                             0.0\n",
       "n_eq_con                               1    ftol_abs                           1e-06\n",
       "n_ineq_con                             1    ftol_rel                             0.0\n",
       "                                            max_eval                          100000\n",
       "                                            stop_val                             inf\n",
       "\n",
       "------------------------------------------------------------------------------------\n",
       "\n",
       "   Lower Bounds   Upper Bounds\n",
       "       0.000000       1.000000\n",
       "       0.000000       1.000000\n",
       "\n",
       "\n",
       "\n",
       "Results                                                                             \n",
       "\n",
       "------------------------------------------------------------------------------------\n",
       "\n",
       "Program found a solution\n",
       "Solution: [0.472095747954381250.5279042520456189]\n",
       "\n",
       "\n",
       "The following inequality constraints were tight: \n",
       "  1: constraint"
      ]
     },
     "execution_count": 3,
     "metadata": {},
     "output_type": "execute_result"
    }
   ],
   "source": [
    "prob.summary()"
   ]
  }
 ],
 "metadata": {
  "kernelspec": {
   "display_name": "Python 3",
   "language": "python",
   "name": "python3"
  },
  "language_info": {
   "codemirror_mode": {
    "name": "ipython",
    "version": 3
   },
   "file_extension": ".py",
   "mimetype": "text/x-python",
   "name": "python",
   "nbconvert_exporter": "python",
   "pygments_lexer": "ipython3",
   "version": "3.7.3"
  }
 },
 "nbformat": 4,
 "nbformat_minor": 2
}
